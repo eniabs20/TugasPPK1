{
  "cells": [
    {
      "cell_type": "markdown",
      "source": [
        "## Anggraeni Bakti Setianingrum\n",
        "\n",
        "## 200601110075"
      ],
      "metadata": {
        "id": "Tz9G9LxSghUV"
      },
      "id": "Tz9G9LxSghUV"
    },
    {
      "cell_type": "markdown",
      "source": [
        "# Catatan Pertemuan 6"
      ],
      "metadata": {
        "id": "oPFTz_1k096j"
      },
      "id": "oPFTz_1k096j"
    },
    {
      "cell_type": "code",
      "execution_count": null,
      "id": "88051238-7e4a-4752-aa0f-7dfddeff64ec",
      "metadata": {
        "id": "88051238-7e4a-4752-aa0f-7dfddeff64ec",
        "outputId": "cdca2d1e-ad10-4010-d477-ce8652bacc8a"
      },
      "outputs": [
        {
          "name": "stdout",
          "output_type": "stream",
          "text": [
            "Nama saya Anggraeni Bakti Setianingrum\n"
          ]
        }
      ],
      "source": [
        "f = open ('coba.txt','r')\n",
        "print(f.read())"
      ]
    },
    {
      "cell_type": "markdown",
      "source": [
        "# Numpy\n",
        "\n",
        "Topik utama dari NumPy adalah array multidimensi yang diindeks oleh tuple atau pasangan bilangan bulat positif. Dalam NumPy dimensi disebut sebagai axis, dan banyaknya axis disebut rank. Sebagai contoh, koordinat sebuah titik diruang 3D dinyatakan sebagai [1,2,1] yang merupakan sebuah array dengan rank 1 karena terdiri dari satu axis. Sedangkan panjang axis tersebut adalah 3. \n",
        "\n",
        "Pada contoh berikut,array-nya mempunyai rank 2. Axis pertama panjangnya 2, dan axis kedua panjangnya 3.\n"
      ],
      "metadata": {
        "id": "IB6P7TQwZL-a"
      },
      "id": "IB6P7TQwZL-a"
    },
    {
      "cell_type": "code",
      "source": [
        "[[1., 0., 0.],\n",
        " [0., 1., 2.]]"
      ],
      "metadata": {
        "id": "4k10tOShZ4Vs"
      },
      "id": "4k10tOShZ4Vs",
      "execution_count": null,
      "outputs": []
    },
    {
      "cell_type": "markdown",
      "source": [
        "array NumPy disebut sebagai **ndarray**, atau dikenal juga dengan sebutan **array**. Catat bahwa **numpy.array** tidak sama dengan array Standard Python **array.array**, yang hanya bisa digunakan untuk array satu dimensi dan dengan ﬁtur yang lebih sedikit. Atribut yang paling penting dari **ndarray** adalah:\n",
        "\n",
        "**ndarray.ndim** : banyaknya axis atau dimensi dari array. Di Python, banyaknya dimensi disebut sebagai **rank**.\n",
        "\n",
        "**ndarray.shape** : dimensi dari array. Ini adalah pasangan bilangan bulat yang menunjukkan ukuran array di setiap dimensi. Untuk matriks dengan **n** baris dan **m** kolom,bentuknya adalah **(n, m)**. Panjang dari pasangan **shape** adalah **rank**, atau jumlah dimensi, **ndim**.\n",
        "\n",
        "**ndarray.size** : jumlah elemen dari array. Ini sama dengan perkalian elemen dari **shape**.\n",
        "\n",
        "**ndarray.dtype** : sebuah objek yang menggambarkan jenis elemen dalam array. Seseorang dapat membuat atau menentukan jenis dtype menggunakan jenis Python standar. Selain itu NumPy menyediakan jenisnya sendiri. **numpy.int32,numpy.int16**, dan **numpy.float64** adalah beberapa contohnya.\n",
        "\n",
        "**ndarray.itemsize** : ukuran dalam byte dari setiap elemen array. Sebagai contoh, sebuah array dari elemen tipe **float64** memiliki **itemsize** 8 (= 64/8), sedangkan satu dari tipe **complex32** memiliki **itemsize** 4 (= 32/8). Ini sama dengan **ndarray.dtype.itemsize**.\n",
        "\n",
        "**ndarray.data** : buffer yang mengandung elemen sebenarnya dari array. Biasanya, kita tidak perlu menggunakan atribut ini karena kita akan mengakses elemen dalam array menggunakan fasilitas pengindeksan.\n",
        "\n",
        "Contoh :"
      ],
      "metadata": {
        "id": "4-dZOkGqaUkF"
      },
      "id": "4-dZOkGqaUkF"
    },
    {
      "cell_type": "code",
      "execution_count": 2,
      "id": "d9befac6-4e98-4e74-a780-e94004fca8ce",
      "metadata": {
        "colab": {
          "base_uri": "https://localhost:8080/"
        },
        "id": "d9befac6-4e98-4e74-a780-e94004fca8ce",
        "outputId": "d1ec3e43-a3b9-4472-daf6-c4e1060104ac"
      },
      "outputs": [
        {
          "output_type": "execute_result",
          "data": {
            "text/plain": [
              "array([[ 0,  1,  2,  3,  4],\n",
              "       [ 5,  6,  7,  8,  9],\n",
              "       [10, 11, 12, 13, 14]])"
            ]
          },
          "metadata": {},
          "execution_count": 2
        }
      ],
      "source": [
        "import numpy as np\n",
        "a = np.arange(15).reshape(3,5)\n",
        "a"
      ]
    },
    {
      "cell_type": "code",
      "execution_count": 3,
      "id": "69d729df-6147-4874-9bcb-837a7f436662",
      "metadata": {
        "colab": {
          "base_uri": "https://localhost:8080/"
        },
        "id": "69d729df-6147-4874-9bcb-837a7f436662",
        "outputId": "514387c7-17c1-4ff3-8071-c156225ab4cb"
      },
      "outputs": [
        {
          "output_type": "execute_result",
          "data": {
            "text/plain": [
              "(3, 5)"
            ]
          },
          "metadata": {},
          "execution_count": 3
        }
      ],
      "source": [
        "a.shape"
      ]
    },
    {
      "cell_type": "code",
      "execution_count": 4,
      "id": "852b338c-a926-4280-94a8-3883b7a192c4",
      "metadata": {
        "colab": {
          "base_uri": "https://localhost:8080/"
        },
        "id": "852b338c-a926-4280-94a8-3883b7a192c4",
        "outputId": "0ef5db10-285c-4676-ec86-1afc1575c1f6"
      },
      "outputs": [
        {
          "output_type": "execute_result",
          "data": {
            "text/plain": [
              "2"
            ]
          },
          "metadata": {},
          "execution_count": 4
        }
      ],
      "source": [
        "a.ndim"
      ]
    },
    {
      "cell_type": "code",
      "execution_count": 5,
      "id": "33027364-a586-41ed-9488-72c54a42d8d3",
      "metadata": {
        "colab": {
          "base_uri": "https://localhost:8080/",
          "height": 35
        },
        "id": "33027364-a586-41ed-9488-72c54a42d8d3",
        "outputId": "173ba221-2395-44b0-caf3-eeec11d42db1"
      },
      "outputs": [
        {
          "output_type": "execute_result",
          "data": {
            "text/plain": [
              "'int64'"
            ],
            "application/vnd.google.colaboratory.intrinsic+json": {
              "type": "string"
            }
          },
          "metadata": {},
          "execution_count": 5
        }
      ],
      "source": [
        "a.dtype.name"
      ]
    },
    {
      "cell_type": "code",
      "source": [
        "a.itemsize"
      ],
      "metadata": {
        "colab": {
          "base_uri": "https://localhost:8080/"
        },
        "id": "yrCiEsZp2z2K",
        "outputId": "270ee487-22b8-4d65-8f06-40fbe83b10bf"
      },
      "id": "yrCiEsZp2z2K",
      "execution_count": 6,
      "outputs": [
        {
          "output_type": "execute_result",
          "data": {
            "text/plain": [
              "8"
            ]
          },
          "metadata": {},
          "execution_count": 6
        }
      ]
    },
    {
      "cell_type": "code",
      "source": [
        "a.size"
      ],
      "metadata": {
        "colab": {
          "base_uri": "https://localhost:8080/"
        },
        "id": "tgp5Xl0v24hk",
        "outputId": "bc8efa87-b12d-493f-c086-98d403152aff"
      },
      "id": "tgp5Xl0v24hk",
      "execution_count": 7,
      "outputs": [
        {
          "output_type": "execute_result",
          "data": {
            "text/plain": [
              "15"
            ]
          },
          "metadata": {},
          "execution_count": 7
        }
      ]
    },
    {
      "cell_type": "code",
      "source": [
        "type(a)"
      ],
      "metadata": {
        "colab": {
          "base_uri": "https://localhost:8080/"
        },
        "id": "ielPfvxT26ib",
        "outputId": "df3ec29c-ef82-4044-f599-c6afec6396fc"
      },
      "id": "ielPfvxT26ib",
      "execution_count": 8,
      "outputs": [
        {
          "output_type": "execute_result",
          "data": {
            "text/plain": [
              "numpy.ndarray"
            ]
          },
          "metadata": {},
          "execution_count": 8
        }
      ]
    },
    {
      "cell_type": "code",
      "source": [
        "b = np.array([6,7,8])\n",
        "b"
      ],
      "metadata": {
        "colab": {
          "base_uri": "https://localhost:8080/"
        },
        "id": "B1FTDGaX2-e1",
        "outputId": "f08d0c21-426f-4238-cfe8-2c538df9cfcc"
      },
      "id": "B1FTDGaX2-e1",
      "execution_count": 9,
      "outputs": [
        {
          "output_type": "execute_result",
          "data": {
            "text/plain": [
              "array([6, 7, 8])"
            ]
          },
          "metadata": {},
          "execution_count": 9
        }
      ]
    },
    {
      "cell_type": "code",
      "source": [
        "type(b)"
      ],
      "metadata": {
        "colab": {
          "base_uri": "https://localhost:8080/"
        },
        "id": "Nwh0uDBA3GTm",
        "outputId": "4159d858-3a14-4c50-83b5-184e84225261"
      },
      "id": "Nwh0uDBA3GTm",
      "execution_count": 10,
      "outputs": [
        {
          "output_type": "execute_result",
          "data": {
            "text/plain": [
              "numpy.ndarray"
            ]
          },
          "metadata": {},
          "execution_count": 10
        }
      ]
    },
    {
      "cell_type": "markdown",
      "source": [
        "## Membuat Array\n",
        "\n",
        "Ada beberapa cara untuk membuat array. Misalnya, Anda dapat membuat array dari list Python biasa atau pasangan menggunakan fungsi **array**. Tipe array yang dihasilkan disimpulkan dari tipe elemen dalam array."
      ],
      "metadata": {
        "id": "JhPjD3cm3Naq"
      },
      "id": "JhPjD3cm3Naq"
    },
    {
      "cell_type": "code",
      "source": [
        "import numpy as np\n",
        "a = np.array([2,3,4])\n",
        "a"
      ],
      "metadata": {
        "colab": {
          "base_uri": "https://localhost:8080/"
        },
        "id": "Gyoa92Dl3MU4",
        "outputId": "5a60a7e0-f9cb-4f90-8628-98fc17b88aff"
      },
      "id": "Gyoa92Dl3MU4",
      "execution_count": 11,
      "outputs": [
        {
          "output_type": "execute_result",
          "data": {
            "text/plain": [
              "array([2, 3, 4])"
            ]
          },
          "metadata": {},
          "execution_count": 11
        }
      ]
    },
    {
      "cell_type": "code",
      "source": [
        "a.dtype"
      ],
      "metadata": {
        "colab": {
          "base_uri": "https://localhost:8080/"
        },
        "id": "sGGA8qOK3W3g",
        "outputId": "a0430dd6-0489-47d1-ccf0-7c478ff0118a"
      },
      "id": "sGGA8qOK3W3g",
      "execution_count": 12,
      "outputs": [
        {
          "output_type": "execute_result",
          "data": {
            "text/plain": [
              "dtype('int64')"
            ]
          },
          "metadata": {},
          "execution_count": 12
        }
      ]
    },
    {
      "cell_type": "code",
      "source": [
        "b = np.array([1.2, 3.5, 5.1])\n",
        "b.dtype"
      ],
      "metadata": {
        "colab": {
          "base_uri": "https://localhost:8080/"
        },
        "id": "u4CavYGB3xBf",
        "outputId": "2724c818-7ffd-4e38-b4f3-87731f08151e"
      },
      "id": "u4CavYGB3xBf",
      "execution_count": 13,
      "outputs": [
        {
          "output_type": "execute_result",
          "data": {
            "text/plain": [
              "dtype('float64')"
            ]
          },
          "metadata": {},
          "execution_count": 13
        }
      ]
    },
    {
      "cell_type": "markdown",
      "source": [
        "Kesalahan yang sering terjadi dalam pembuatan **array** diantaranya adalah: "
      ],
      "metadata": {
        "id": "wG-CKBAw3_LY"
      },
      "id": "wG-CKBAw3_LY"
    },
    {
      "cell_type": "code",
      "source": [
        "a = np.array(1,2,3,4) # WRONG \n",
        "a = np.array([1,2,3,4]) # RIGHT "
      ],
      "metadata": {
        "id": "Wn8GmKHh4YAU"
      },
      "id": "Wn8GmKHh4YAU",
      "execution_count": null,
      "outputs": []
    },
    {
      "cell_type": "markdown",
      "source": [
        "**array** mengubah barisan dari sebuah barisan menjadi **array** dua dimensi, barisan dari barisan sebuah barisan menjadi **array** tiga dimensi, dan seterusnya.\n"
      ],
      "metadata": {
        "id": "N-YfCPwldY9s"
      },
      "id": "N-YfCPwldY9s"
    },
    {
      "cell_type": "code",
      "source": [
        "b = np.array([(1.5,2,3), (4,5,6)])\n",
        "b"
      ],
      "metadata": {
        "colab": {
          "base_uri": "https://localhost:8080/"
        },
        "id": "5Q3cv-7G4ZzU",
        "outputId": "8f4756ec-45ca-403e-f1fa-81f73443e5b6"
      },
      "id": "5Q3cv-7G4ZzU",
      "execution_count": 14,
      "outputs": [
        {
          "output_type": "execute_result",
          "data": {
            "text/plain": [
              "array([[1.5, 2. , 3. ],\n",
              "       [4. , 5. , 6. ]])"
            ]
          },
          "metadata": {},
          "execution_count": 14
        }
      ]
    },
    {
      "cell_type": "markdown",
      "source": [
        "Jenis **array** juga dapat secara eksplisit ditentukan pada saat pembuatan:\n"
      ],
      "metadata": {
        "id": "5lDP83H7dk4I"
      },
      "id": "5lDP83H7dk4I"
    },
    {
      "cell_type": "code",
      "source": [
        "c = np.array([[1,2], [3,4]], dtype = complex)\n",
        "c"
      ],
      "metadata": {
        "colab": {
          "base_uri": "https://localhost:8080/"
        },
        "id": "g2LhwNfD4puH",
        "outputId": "79f4520d-cdb4-47fb-b6b7-ce2026e6c160"
      },
      "id": "g2LhwNfD4puH",
      "execution_count": 15,
      "outputs": [
        {
          "output_type": "execute_result",
          "data": {
            "text/plain": [
              "array([[1.+0.j, 2.+0.j],\n",
              "       [3.+0.j, 4.+0.j]])"
            ]
          },
          "metadata": {},
          "execution_count": 15
        }
      ]
    },
    {
      "cell_type": "markdown",
      "source": [
        "Seringkali, elemen dari sebuah **array** pada awalnya tidak diketahui, namun ukurannya diketahui. Oleh karena itu, NumPy menawarkan beberapa fungsi untuk membuat **array** yang memuat nilai awal. Hal tersebut dapat meminimalkan pertumbuhan memori yang diperlukan **array**, sebagai operasi yang dianggap mahal. \n",
        "\n",
        "Fungsi **zeros** menciptakan sebuah **array** yang berisi angka nol, fungsi **ones** yang menciptakan **array** yang berisi angka satu, dan fungsi **empty** menciptakan array yang isinya acak dan bergantung pada keadaan memori. Secara default, **dtype** dari **array** yang dibuat adalah **float64**."
      ],
      "metadata": {
        "id": "Mp5LUvp5d5C7"
      },
      "id": "Mp5LUvp5d5C7"
    },
    {
      "cell_type": "code",
      "source": [
        "# Fungsi zeros\n",
        "np.zeros((3,4))"
      ],
      "metadata": {
        "colab": {
          "base_uri": "https://localhost:8080/"
        },
        "id": "FP1t74Vy5C8N",
        "outputId": "5c587e9f-bbe3-437d-cdf4-eb5c42555567"
      },
      "id": "FP1t74Vy5C8N",
      "execution_count": 16,
      "outputs": [
        {
          "output_type": "execute_result",
          "data": {
            "text/plain": [
              "array([[0., 0., 0., 0.],\n",
              "       [0., 0., 0., 0.],\n",
              "       [0., 0., 0., 0.]])"
            ]
          },
          "metadata": {},
          "execution_count": 16
        }
      ]
    },
    {
      "cell_type": "code",
      "source": [
        "# Fungsi ones\n",
        "np.ones((2,3,4), dtype=np.int16)"
      ],
      "metadata": {
        "colab": {
          "base_uri": "https://localhost:8080/"
        },
        "id": "pNnMobsA5Myx",
        "outputId": "5abe066a-d8d5-4cbb-fde9-2b2509291e61"
      },
      "id": "pNnMobsA5Myx",
      "execution_count": 17,
      "outputs": [
        {
          "output_type": "execute_result",
          "data": {
            "text/plain": [
              "array([[[1, 1, 1, 1],\n",
              "        [1, 1, 1, 1],\n",
              "        [1, 1, 1, 1]],\n",
              "\n",
              "       [[1, 1, 1, 1],\n",
              "        [1, 1, 1, 1],\n",
              "        [1, 1, 1, 1]]], dtype=int16)"
            ]
          },
          "metadata": {},
          "execution_count": 17
        }
      ]
    },
    {
      "cell_type": "code",
      "source": [
        "# Fungsi empty\n",
        "np.empty((2,3))"
      ],
      "metadata": {
        "colab": {
          "base_uri": "https://localhost:8080/"
        },
        "id": "HkXWvwyS5arw",
        "outputId": "ba943953-1775-4f41-bfce-4ecce9613785"
      },
      "id": "HkXWvwyS5arw",
      "execution_count": 19,
      "outputs": [
        {
          "output_type": "execute_result",
          "data": {
            "text/plain": [
              "array([[1.5, 2. , 3. ],\n",
              "       [4. , 5. , 6. ]])"
            ]
          },
          "metadata": {},
          "execution_count": 19
        }
      ]
    },
    {
      "cell_type": "markdown",
      "source": [
        "Untuk membuat barisan angka, NumPy menyediakan fungsi yang mirip dengan **range** yang outputnya berupa **array** dan bukan berupa list.\n"
      ],
      "metadata": {
        "id": "MZPvFzv5epy1"
      },
      "id": "MZPvFzv5epy1"
    },
    {
      "cell_type": "code",
      "source": [
        "# barisan angka\n",
        "np.arange(10,30,5)"
      ],
      "metadata": {
        "colab": {
          "base_uri": "https://localhost:8080/"
        },
        "id": "qkE_5b1N52bp",
        "outputId": "dead1bf2-07bc-44ae-c973-514407ba657a"
      },
      "id": "qkE_5b1N52bp",
      "execution_count": 20,
      "outputs": [
        {
          "output_type": "execute_result",
          "data": {
            "text/plain": [
              "array([10, 15, 20, 25])"
            ]
          },
          "metadata": {},
          "execution_count": 20
        }
      ]
    },
    {
      "cell_type": "code",
      "source": [
        "np.arange(0,2,0.3)"
      ],
      "metadata": {
        "colab": {
          "base_uri": "https://localhost:8080/"
        },
        "id": "T9vEHTwt5_2s",
        "outputId": "f6bbc968-283d-43f6-f93b-d1a86783f0c1"
      },
      "id": "T9vEHTwt5_2s",
      "execution_count": 21,
      "outputs": [
        {
          "output_type": "execute_result",
          "data": {
            "text/plain": [
              "array([0. , 0.3, 0.6, 0.9, 1.2, 1.5, 1.8])"
            ]
          },
          "metadata": {},
          "execution_count": 21
        }
      ]
    },
    {
      "cell_type": "markdown",
      "source": [
        "Jika **arange** digunakan dengan argumen ﬂoating point,biasanya sulit memprediksi jumlah elemen yang diperoleh,karena presisi ﬂoating point yang terbatas. Untuk itu, lebih baik menggunakan fungsi linspace yang dapat menerima masukan berapa jumlah elemen yang kita inginkan:\n"
      ],
      "metadata": {
        "id": "69XAzt9-e2mO"
      },
      "id": "69XAzt9-e2mO"
    },
    {
      "cell_type": "code",
      "source": [
        "# Fungsi linspace\n",
        "from numpy import pi\n",
        "np.linspace(0,2,9) # 9 angka dari 0 sampai 2"
      ],
      "metadata": {
        "colab": {
          "base_uri": "https://localhost:8080/"
        },
        "id": "eFXLHH9M6oYK",
        "outputId": "9fea071a-ea3f-4285-d6ce-8e5304c32f8a"
      },
      "id": "eFXLHH9M6oYK",
      "execution_count": 22,
      "outputs": [
        {
          "output_type": "execute_result",
          "data": {
            "text/plain": [
              "array([0.  , 0.25, 0.5 , 0.75, 1.  , 1.25, 1.5 , 1.75, 2.  ])"
            ]
          },
          "metadata": {},
          "execution_count": 22
        }
      ]
    },
    {
      "cell_type": "code",
      "source": [
        "x = np.linspace(0,2*pi,100)"
      ],
      "metadata": {
        "id": "9gSyy3nk6-ii"
      },
      "id": "9gSyy3nk6-ii",
      "execution_count": 23,
      "outputs": []
    },
    {
      "cell_type": "code",
      "source": [
        "f = np.sin(x)"
      ],
      "metadata": {
        "id": "qLibj-zr7NG1"
      },
      "id": "qLibj-zr7NG1",
      "execution_count": 24,
      "outputs": []
    },
    {
      "cell_type": "markdown",
      "source": [
        "## Menampilkan Array\n",
        "\n",
        "Saat kita menampilkan **array**, NumPy menampilkannya dengan cara yang mirip dengan daftar bersarang, namun dengan tata letak berikut:\n",
        "\n",
        "• axis terakhir dicetak dari kiri ke kanan, \n",
        "\n",
        "• yang kedua sampai yang terakhir dicetak dari atas ke bawah, \n",
        "\n",
        "• Sisanya juga dicetak dari atas ke bawah,dengan masing-masing  potongan dipisahkan oleh sebuah baris kosong.\n",
        "\n",
        "\n",
        "**array** satu dimensi dicetak sebagai baris, array dua dimensi sebagai matriks dan tridimensionals sebagai daftar matriks.\n"
      ],
      "metadata": {
        "id": "WyB069Th7SXG"
      },
      "id": "WyB069Th7SXG"
    },
    {
      "cell_type": "code",
      "source": [
        "a = np.arange(6)\n",
        "print(a)"
      ],
      "metadata": {
        "colab": {
          "base_uri": "https://localhost:8080/"
        },
        "id": "Z1VkP2ix7UzA",
        "outputId": "2388f5b9-ee06-408a-9937-550c8f494ec7"
      },
      "id": "Z1VkP2ix7UzA",
      "execution_count": 25,
      "outputs": [
        {
          "output_type": "stream",
          "name": "stdout",
          "text": [
            "[0 1 2 3 4 5]\n"
          ]
        }
      ]
    },
    {
      "cell_type": "code",
      "source": [
        "b = np.arange(12).reshape(4,3)\n",
        "print(b)"
      ],
      "metadata": {
        "colab": {
          "base_uri": "https://localhost:8080/"
        },
        "id": "Wvm1y8Vk7eZN",
        "outputId": "668e19a5-10a1-4f50-8265-fa2be6b9a132"
      },
      "id": "Wvm1y8Vk7eZN",
      "execution_count": 26,
      "outputs": [
        {
          "output_type": "stream",
          "name": "stdout",
          "text": [
            "[[ 0  1  2]\n",
            " [ 3  4  5]\n",
            " [ 6  7  8]\n",
            " [ 9 10 11]]\n"
          ]
        }
      ]
    },
    {
      "cell_type": "code",
      "source": [
        "c = np.arange(24).reshape(2,3,4)\n",
        "print(c)"
      ],
      "metadata": {
        "colab": {
          "base_uri": "https://localhost:8080/"
        },
        "id": "HtOJc0U57uUd",
        "outputId": "62e3752f-e804-4bfa-94ba-9a2ee962c7dd"
      },
      "id": "HtOJc0U57uUd",
      "execution_count": 27,
      "outputs": [
        {
          "output_type": "stream",
          "name": "stdout",
          "text": [
            "[[[ 0  1  2  3]\n",
            "  [ 4  5  6  7]\n",
            "  [ 8  9 10 11]]\n",
            "\n",
            " [[12 13 14 15]\n",
            "  [16 17 18 19]\n",
            "  [20 21 22 23]]]\n"
          ]
        }
      ]
    },
    {
      "cell_type": "markdown",
      "source": [
        "Jika **array** terlalu besar untuk ditampilkan, NumPy secara otomatis memotong bagian tengah **array** dan hanya mencetak ujung-ujungnya:\n"
      ],
      "metadata": {
        "id": "_Mrb6oxTf2_5"
      },
      "id": "_Mrb6oxTf2_5"
    },
    {
      "cell_type": "code",
      "source": [
        "print(np.arange(10000))"
      ],
      "metadata": {
        "colab": {
          "base_uri": "https://localhost:8080/"
        },
        "id": "W2yyKnO98GHi",
        "outputId": "4f694455-3720-4d97-a25a-76b4392574ba"
      },
      "id": "W2yyKnO98GHi",
      "execution_count": 28,
      "outputs": [
        {
          "output_type": "stream",
          "name": "stdout",
          "text": [
            "[   0    1    2 ... 9997 9998 9999]\n"
          ]
        }
      ]
    },
    {
      "cell_type": "code",
      "source": [
        "print(np.arange(10000).reshape(100,100))"
      ],
      "metadata": {
        "colab": {
          "base_uri": "https://localhost:8080/"
        },
        "id": "c6EsOkSz8Lof",
        "outputId": "b697265f-234d-4fcc-a045-0d173d7359e2"
      },
      "id": "c6EsOkSz8Lof",
      "execution_count": 29,
      "outputs": [
        {
          "output_type": "stream",
          "name": "stdout",
          "text": [
            "[[   0    1    2 ...   97   98   99]\n",
            " [ 100  101  102 ...  197  198  199]\n",
            " [ 200  201  202 ...  297  298  299]\n",
            " ...\n",
            " [9700 9701 9702 ... 9797 9798 9799]\n",
            " [9800 9801 9802 ... 9897 9898 9899]\n",
            " [9900 9901 9902 ... 9997 9998 9999]]\n"
          ]
        }
      ]
    },
    {
      "cell_type": "markdown",
      "source": [
        "Untuk memaksa NumPy mencetak seluruh bagian **array**, kita dapat mengubah opsi print menggunakan **set_printoptions**.\n"
      ],
      "metadata": {
        "id": "25lE7FTBgJ0w"
      },
      "id": "25lE7FTBgJ0w"
    },
    {
      "cell_type": "code",
      "source": [
        "np.set_printoptions(threshold=’nan’)"
      ],
      "metadata": {
        "id": "4W_l4dr59zW5"
      },
      "id": "4W_l4dr59zW5",
      "execution_count": null,
      "outputs": []
    }
  ],
  "metadata": {
    "kernelspec": {
      "display_name": "Python 3 (ipykernel)",
      "language": "python",
      "name": "python3"
    },
    "language_info": {
      "codemirror_mode": {
        "name": "ipython",
        "version": 3
      },
      "file_extension": ".py",
      "mimetype": "text/x-python",
      "name": "python",
      "nbconvert_exporter": "python",
      "pygments_lexer": "ipython3",
      "version": "3.10.2"
    },
    "colab": {
      "name": "Catatan_Pertemuan6.ipynb",
      "provenance": []
    }
  },
  "nbformat": 4,
  "nbformat_minor": 5
}