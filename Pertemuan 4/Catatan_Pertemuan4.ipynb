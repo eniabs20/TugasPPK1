{
 "cells": [
  {
   "cell_type": "markdown",
   "id": "8c5e71e7-c2c0-477d-9602-1444caaae941",
   "metadata": {},
   "source": [
    "# Pertemuan Ke 4"
   ]
  },
  {
   "cell_type": "markdown",
   "id": "47f6ea49-17a5-4422-8c5a-83e62802b826",
   "metadata": {},
   "source": [
    "## Fungsi"
   ]
  },
  {
   "cell_type": "code",
   "execution_count": 1,
   "id": "c5264323-fd99-4e1a-a6a7-1098f5665948",
   "metadata": {},
   "outputs": [],
   "source": [
    "def kali(a,b):\n",
    "    c=a*b\n",
    "    return c"
   ]
  },
  {
   "cell_type": "code",
   "execution_count": 2,
   "id": "6f5178c9-e71f-4e3a-9bce-99d7f0785324",
   "metadata": {},
   "outputs": [],
   "source": [
    "def tulis(s):\n",
    "    print(s)"
   ]
  },
  {
   "cell_type": "code",
   "execution_count": 3,
   "id": "43f024d2-a1d1-4304-8c44-9fc22c7fa8bd",
   "metadata": {},
   "outputs": [
    {
     "data": {
      "text/plain": [
       "50"
      ]
     },
     "execution_count": 3,
     "metadata": {},
     "output_type": "execute_result"
    }
   ],
   "source": [
    "z=kali(10,5)\n",
    "z"
   ]
  },
  {
   "cell_type": "code",
   "execution_count": 4,
   "id": "c24ff010-9108-4fc9-94f4-fb9dd3a2bb62",
   "metadata": {},
   "outputs": [
    {
     "name": "stdout",
     "output_type": "stream",
     "text": [
      "Pemrograman Komputer I dengan Python\n"
     ]
    }
   ],
   "source": [
    "tulis('Pemrograman Komputer I dengan Python')"
   ]
  },
  {
   "cell_type": "code",
   "execution_count": 5,
   "id": "0cf27aae-a242-49b7-9c75-77977f67c5fb",
   "metadata": {},
   "outputs": [
    {
     "name": "stdout",
     "output_type": "stream",
     "text": [
      "50\n"
     ]
    }
   ],
   "source": [
    "tulis(z)"
   ]
  },
  {
   "cell_type": "markdown",
   "id": "77e054a8-3f58-4353-9bdd-927a61bb169c",
   "metadata": {},
   "source": [
    "## Conditional"
   ]
  },
  {
   "cell_type": "code",
   "execution_count": 7,
   "id": "fdac4698-68d0-417b-9e0c-f385884e31ab",
   "metadata": {},
   "outputs": [
    {
     "name": "stdin",
     "output_type": "stream",
     "text": [
      "Masukkan Nilai Anda:    79\n"
     ]
    },
    {
     "name": "stdout",
     "output_type": "stream",
     "text": [
      "Anda lulus ujian!    Selamat!\n"
     ]
    }
   ],
   "source": [
    "nilai = input (\"Masukkan Nilai Anda:   \")\n",
    "if int(nilai) >= 70:\n",
    "    print(\"Anda lulus ujian!    Selamat!\")"
   ]
  },
  {
   "cell_type": "code",
   "execution_count": 8,
   "id": "8e8a01bb-eba6-4d98-b51a-d45acbb0f312",
   "metadata": {},
   "outputs": [
    {
     "name": "stdin",
     "output_type": "stream",
     "text": [
      "Masukkan Nilai Anda:    80\n"
     ]
    },
    {
     "name": "stdout",
     "output_type": "stream",
     "text": [
      "Anda lulus ujian!    Selamat!\n"
     ]
    }
   ],
   "source": [
    "nilai = input (\"Masukkan Nilai Anda:   \")\n",
    "if int(nilai) >= 70:\n",
    "    print(\"Anda lulus ujian!    Selamat!\")\n",
    "else:\n",
    "    print(\"Anda belum lulus ujian!\")"
   ]
  },
  {
   "cell_type": "code",
   "execution_count": 9,
   "id": "a8b88a70-44b0-433d-8079-a6b55d004cfc",
   "metadata": {},
   "outputs": [
    {
     "name": "stdin",
     "output_type": "stream",
     "text": [
      "Masukkan Nilai Anda:    110\n"
     ]
    },
    {
     "name": "stdout",
     "output_type": "stream",
     "text": [
      "Nilai anda TIDAK valid\n"
     ]
    }
   ],
   "source": [
    "nilai = input (\"Masukkan Nilai Anda:   \")\n",
    "if int(nilai) < 0 or int(nilai) > 100:\n",
    "    print(\"Nilai anda TIDAK valid\")\n",
    "elif int(nilai) >= 70:\n",
    "    print(\"Anda lulus ujian!    Selamat!\")\n",
    "else:\n",
    "    print(\"Anda belum lulus ujian!\")"
   ]
  },
  {
   "cell_type": "code",
   "execution_count": 10,
   "id": "617586c8-8ebb-440e-8f53-0ffdc7c46d45",
   "metadata": {},
   "outputs": [
    {
     "name": "stdin",
     "output_type": "stream",
     "text": [
      "Masukkan Nilai Anda:    60\n"
     ]
    }
   ],
   "source": [
    "nilai = input (\"Masukkan Nilai Anda:   \")"
   ]
  },
  {
   "cell_type": "code",
   "execution_count": 11,
   "id": "99bb10de-bb01-4b2f-b289-aefce844a191",
   "metadata": {},
   "outputs": [
    {
     "name": "stdout",
     "output_type": "stream",
     "text": [
      "Anda belum lulus ujian!\n"
     ]
    }
   ],
   "source": [
    "if int(nilai) < 0 or int(nilai) > 100:\n",
    "    print(\"Nilai anda TIDAK valid\")\n",
    "elif int(nilai) >= 70:\n",
    "    print(\"Anda lulus ujian!    Selamat!\")\n",
    "else:\n",
    "    print(\"Anda belum lulus ujian!\")"
   ]
  },
  {
   "cell_type": "code",
   "execution_count": null,
   "id": "c23e6ed5-2afb-4908-bf0d-9025c418c563",
   "metadata": {},
   "outputs": [],
   "source": []
  }
 ],
 "metadata": {
  "kernelspec": {
   "display_name": "Python 3 (ipykernel)",
   "language": "python",
   "name": "python3"
  },
  "language_info": {
   "codemirror_mode": {
    "name": "ipython",
    "version": 3
   },
   "file_extension": ".py",
   "mimetype": "text/x-python",
   "name": "python",
   "nbconvert_exporter": "python",
   "pygments_lexer": "ipython3",
   "version": "3.10.2"
  }
 },
 "nbformat": 4,
 "nbformat_minor": 5
}
