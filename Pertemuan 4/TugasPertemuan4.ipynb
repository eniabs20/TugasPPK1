{
 "cells": [
  {
   "cell_type": "markdown",
   "id": "f216b572-e1a0-455f-963b-641ed333547e",
   "metadata": {},
   "source": [
    "## Anggraeni Bakti Setianingrum\n",
    "## 200601110075"
   ]
  },
  {
   "cell_type": "markdown",
   "id": "faef3391-0092-4e2f-9fc7-cc9a3a4cf5c5",
   "metadata": {},
   "source": [
    "(1) Buatlah program untuk menginputkan dua buah bilangan bulat, kemudian mencetak salah satu bilangan yang nilainya terbesar! "
   ]
  },
  {
   "cell_type": "code",
   "execution_count": 1,
   "id": "ea4803cb-2071-4e03-b85e-2534fd6298c5",
   "metadata": {},
   "outputs": [
    {
     "name": "stdin",
     "output_type": "stream",
     "text": [
      "Masukkan bilangan bulat pertama : 50\n",
      "Masukkan bilangan bulat kedua   : 12\n"
     ]
    },
    {
     "name": "stdout",
     "output_type": "stream",
     "text": [
      "Bilangan yang nilainya terbesar adalah : 50\n"
     ]
    }
   ],
   "source": [
    "a = int(input(\"Masukkan bilangan bulat pertama :\"))\n",
    "b = int(input(\"Masukkan bilangan bulat kedua   :\"))\n",
    "if a > b:\n",
    "    maks = a\n",
    "else:\n",
    "    maks = b\n",
    "print(\"Bilangan yang nilainya terbesar adalah : %d\" %maks)"
   ]
  },
  {
   "cell_type": "markdown",
   "id": "0125d615-8672-4f4d-aabe-e18448371f8f",
   "metadata": {},
   "source": [
    "(2) Pada akhir semester seorang dosen menghitung nilai akhir dari mahasiswa yang terdiri dari nilai uas, uts, kuis, dan tugas. Nilai akhir didapatkan dari 40% nilai uas, 30% nilai uts, 10% nilai kuis, dan 20% nilai tugas. Jika nilai akhir dari mahasiswa di bawah 65 maka mahasiswa tersebut akan mendapatkan remidi. Buatlah program untuk membantu mengetahui mahasiswa yang mendapatkan remidi berdasarkan nilai akhir yang didapatkannya! "
   ]
  },
  {
   "cell_type": "code",
   "execution_count": 6,
   "id": "782b28b7-ab21-4c27-bb05-2bb84501735e",
   "metadata": {},
   "outputs": [
    {
     "name": "stdin",
     "output_type": "stream",
     "text": [
      "Masukkan Nama        : aanggraeni\n",
      "Masukkan NIM         : 200601110075\n",
      "Masukkan nilai UAS   : 80\n",
      "Masukkan nilai UTS   : 90\n",
      "Masukkan nilai Kuis  : 75\n",
      "Masukkan nilai Tugas : 80\n"
     ]
    },
    {
     "name": "stdout",
     "output_type": "stream",
     "text": [
      "Nama        : aanggraeni\n",
      "NIM         : 200601110075\n",
      "Nilai UAS   : 32\n",
      "Nilai UTS   : 27\n",
      "Nilai Kuis  : 7\n",
      "Nilai Tugas : 16\n",
      "Nilai Akhir : 82\n",
      "Tidak Remidi\n"
     ]
    }
   ],
   "source": [
    "UAS=[]\n",
    "UTS=[]\n",
    "Kuis=[]\n",
    "Tugas=[]\n",
    "Nama = (input(\"Masukkan Nama        :\"))\n",
    "NIM = (input(\"Masukkan NIM         :\"))\n",
    "a=len(UAS)-1\n",
    "UAS.append(int(input(\"Masukkan nilai UAS   :\")))\n",
    "b=len(UTS)-1\n",
    "UTS.append(int(input(\"Masukkan nilai UTS   :\")))\n",
    "c=len(Kuis)-1\n",
    "Kuis.append(int(input(\"Masukkan nilai Kuis  :\")))\n",
    "d=len(Tugas)-1\n",
    "Tugas.append(int(input(\"Masukkan nilai Tugas :\")))\n",
    "Nilai_UAS = UAS[a]*0.4\n",
    "Nilai_UTS = UTS[b]*0.3\n",
    "Nilai_Kuis = Kuis[c]*0.1\n",
    "Nilai_Tugas = Tugas[d]*0.2\n",
    "Nilai_Akhir = Nilai_UAS + Nilai_UTS + Nilai_Kuis + Nilai_Tugas\n",
    "\n",
    "print(\"Nama        : %s\" %Nama)\n",
    "print(\"NIM         : %s\" %NIM)\n",
    "print(\"Nilai UAS   : %d\" %Nilai_UAS)\n",
    "print(\"Nilai UTS   : %d\" %Nilai_UTS)\n",
    "print(\"Nilai Kuis  : %d\" %Nilai_Kuis)\n",
    "print(\"Nilai Tugas : %d\" %Nilai_Tugas)\n",
    "print(\"Nilai Akhir : %d\" %Nilai_Akhir)\n",
    "if Nilai_Akhir >= 65:\n",
    "    print(\"Tidak Remidi\")\n",
    "else:\n",
    "    print(\"Remidi\")"
   ]
  },
  {
   "cell_type": "markdown",
   "id": "8e0c96e3-169d-46ee-a570-c8fbf56688c0",
   "metadata": {},
   "source": [
    "3. Buatlah program kalkulator sederhana menggunakan Python. User akan memasukkan dua buah bilangan riil dan satu buah operator aritmatika (+, -, *, atau /), kemudian program akan mengoperasikan dua bilangan tersebut dengan operator yang sesuai."
   ]
  },
  {
   "cell_type": "code",
   "execution_count": 8,
   "id": "b16f3d66-7833-4334-b181-06b434b7cc4b",
   "metadata": {},
   "outputs": [
    {
     "name": "stdout",
     "output_type": "stream",
     "text": [
      "Operasi Matematika\n",
      "  1. Tambah  [+]\n",
      "  2. Kurang  [-]\n",
      "  3. Kali    [*]\n",
      "  4. Bagi    [/]\n"
     ]
    },
    {
     "name": "stdin",
     "output_type": "stream",
     "text": [
      "Pilih operasi (1/2/3/4)   : 1\n",
      "Masukkan bilangan pertama : 8\n",
      "Masukkan bilangan kedua   : 2\n"
     ]
    },
    {
     "name": "stdout",
     "output_type": "stream",
     "text": [
      "Hasil operasi dari 8 + 2 = 10\n"
     ]
    }
   ],
   "source": [
    "print('Operasi Matematika')\n",
    "print('  1. Tambah  [+]')\n",
    "print('  2. Kurang  [-]')\n",
    "print('  3. Kali    [*]')\n",
    "print('  4. Bagi    [/]')\n",
    "operasi = input('Pilih operasi (1/2/3/4)   :')\n",
    "bil1 = int(input('Masukkan bilangan pertama :'))\n",
    "bil2 = int(input('Masukkan bilangan kedua   :'))\n",
    "if operasi == '1':\n",
    "  hasil = bil1 + bil2\n",
    "  print(f'Hasil operasi dari {bil1} + {bil2} = {hasil}')\n",
    "elif operasi == '2':\n",
    "  hasil = bil1 - bil2\n",
    "  print(f'Hasil operasi dari {bil1} - {bil2} = {hasil}')\n",
    "elif operasi == '3':\n",
    "  hasil = bil1 * bil2\n",
    "  print(f'Hasil operasi dari {bil1} * {bil2} = {hasil}')\n",
    "elif operasi == '4':\n",
    "  hasil = bil1 / bil2\n",
    "  print(f'Hasil operasi dari {bil1} / {bil2} = {hasil}')\n",
    "else:\n",
    "  print('Tidak valid')"
   ]
  },
  {
   "cell_type": "code",
   "execution_count": null,
   "id": "6e1af602-e643-4aad-93b6-f98c622e024d",
   "metadata": {},
   "outputs": [],
   "source": []
  }
 ],
 "metadata": {
  "kernelspec": {
   "display_name": "Python 3 (ipykernel)",
   "language": "python",
   "name": "python3"
  },
  "language_info": {
   "codemirror_mode": {
    "name": "ipython",
    "version": 3
   },
   "file_extension": ".py",
   "mimetype": "text/x-python",
   "name": "python",
   "nbconvert_exporter": "python",
   "pygments_lexer": "ipython3",
   "version": "3.10.2"
  }
 },
 "nbformat": 4,
 "nbformat_minor": 5
}
