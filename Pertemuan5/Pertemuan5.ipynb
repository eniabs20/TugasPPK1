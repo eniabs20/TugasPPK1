{
 "cells": [
  {
   "cell_type": "markdown",
   "id": "bb683ec9-2300-450d-b194-ade215e6c7a7",
   "metadata": {},
   "source": [
    "# Pertemuan 5"
   ]
  },
  {
   "cell_type": "markdown",
   "id": "7b2856bf-573c-42d7-ba56-7091edae0fcb",
   "metadata": {},
   "source": [
    "## Percobaan While Loop"
   ]
  },
  {
   "cell_type": "code",
   "execution_count": 4,
   "id": "360a9540-ce16-4e72-9673-b221aaff2e61",
   "metadata": {},
   "outputs": [],
   "source": [
    "def faktorial(n):\n",
    "    fac = 1\n",
    "    i = 1\n",
    "    while i <= n:\n",
    "        fac = fac+i\n",
    "        i += 1\n",
    "    return fac"
   ]
  },
  {
   "cell_type": "code",
   "execution_count": 17,
   "id": "28ff6948-5f42-4bd8-8d73-20285302222e",
   "metadata": {},
   "outputs": [
    {
     "name": "stdin",
     "output_type": "stream",
     "text": [
      "Masukkan nilai yang akan dihitung  : 2\n"
     ]
    },
    {
     "data": {
      "text/plain": [
       "4"
      ]
     },
     "execution_count": 17,
     "metadata": {},
     "output_type": "execute_result"
    }
   ],
   "source": [
    "angka = int(input('Masukkan nilai yang akan dihitung  :'))\n",
    "faktorial(angka)"
   ]
  },
  {
   "cell_type": "code",
   "execution_count": 7,
   "id": "03d73ba5-5ad6-4dc2-a5ba-729e1a430bff",
   "metadata": {},
   "outputs": [
    {
     "data": {
      "text/plain": [
       "4"
      ]
     },
     "execution_count": 7,
     "metadata": {},
     "output_type": "execute_result"
    }
   ],
   "source": [
    "faktorial(2)"
   ]
  },
  {
   "cell_type": "markdown",
   "id": "cb2d136f-012f-497a-ae9b-453d110cfdbc",
   "metadata": {},
   "source": [
    "## Percobaan For Loop"
   ]
  },
  {
   "cell_type": "code",
   "execution_count": 10,
   "id": "34b7d7b3-f338-4f45-880c-9a4ec84dbf9b",
   "metadata": {},
   "outputs": [
    {
     "name": "stdout",
     "output_type": "stream",
     "text": [
      "151\n"
     ]
    }
   ],
   "source": [
    "numbers = [1, 10, 20, 30, 40, 50]\n",
    "sum = 0\n",
    "for number in numbers:\n",
    "    sum += number\n",
    "print(sum)"
   ]
  },
  {
   "cell_type": "code",
   "execution_count": 16,
   "id": "8efdde31-2394-4c48-8e87-379c995a5ac1",
   "metadata": {},
   "outputs": [
    {
     "name": "stdin",
     "output_type": "stream",
     "text": [
      "Masukkan nilai yang akan dihitung  : 12\n",
      "Masukkan nilai yang akan dihitung  : 34\n",
      "Masukkan nilai yang akan dihitung  : 3\n",
      "Masukkan nilai yang akan dihitung  : 3\n"
     ]
    },
    {
     "ename": "TypeError",
     "evalue": "can only concatenate str (not \"int\") to str",
     "output_type": "error",
     "traceback": [
      "\u001b[1;31m---------------------------------------------------------------------------\u001b[0m",
      "\u001b[1;31mTypeError\u001b[0m                                 Traceback (most recent call last)",
      "Input \u001b[1;32mIn [16]\u001b[0m, in \u001b[0;36m<module>\u001b[1;34m\u001b[0m\n\u001b[0;32m      5\u001b[0m     \u001b[38;5;28;01mif\u001b[39;00m b \u001b[38;5;241m>\u001b[39m \u001b[38;5;241m50\u001b[39m:\n\u001b[0;32m      6\u001b[0m         \u001b[38;5;28;01mbreak\u001b[39;00m\n\u001b[1;32m----> 7\u001b[0m \u001b[38;5;28mprint\u001b[39m(\u001b[38;5;124;43m\"\u001b[39;49m\u001b[38;5;124;43mAngka berhenti pada jumlah  : \u001b[39;49m\u001b[38;5;124;43m\"\u001b[39;49m\u001b[43m \u001b[49m\u001b[38;5;241;43m+\u001b[39;49m\u001b[43mb\u001b[49m)\n",
      "\u001b[1;31mTypeError\u001b[0m: can only concatenate str (not \"int\") to str"
     ]
    }
   ],
   "source": [
    "b = 0\n",
    "while True:\n",
    "    angka = int(input('Masukkan nilai yang akan dihitung  :'))\n",
    "    b += angka\n",
    "    if b > 50:\n",
    "        break\n",
    "print(\"Angka berhenti pada jumlah  : \" +b)"
   ]
  },
  {
   "cell_type": "markdown",
   "id": "2059f4ef-d6c9-4bcb-be1e-a2a8475fa24f",
   "metadata": {},
   "source": [
    "## Matplotlip"
   ]
  },
  {
   "cell_type": "code",
   "execution_count": 13,
   "id": "8bff4de7-604d-41ac-877c-fe664cd383c2",
   "metadata": {},
   "outputs": [
    {
     "ename": "NameError",
     "evalue": "name 'plt' is not defined",
     "output_type": "error",
     "traceback": [
      "\u001b[1;31m---------------------------------------------------------------------------\u001b[0m",
      "\u001b[1;31mNameError\u001b[0m                                 Traceback (most recent call last)",
      "Input \u001b[1;32mIn [13]\u001b[0m, in \u001b[0;36m<module>\u001b[1;34m\u001b[0m\n\u001b[1;32m----> 1\u001b[0m \u001b[43mplt\u001b[49m\u001b[38;5;241m.\u001b[39mplot(x,y)\n\u001b[0;32m      2\u001b[0m plt\u001b[38;5;241m.\u001b[39mshow()\n",
      "\u001b[1;31mNameError\u001b[0m: name 'plt' is not defined"
     ]
    }
   ],
   "source": [
    "import numpy\n",
    "plt.plot(x,y)\n",
    "plt.show()"
   ]
  },
  {
   "cell_type": "code",
   "execution_count": null,
   "id": "ee8c3925-d5ef-4ef2-b740-b604f99b94c0",
   "metadata": {},
   "outputs": [],
   "source": []
  }
 ],
 "metadata": {
  "kernelspec": {
   "display_name": "Python 3 (ipykernel)",
   "language": "python",
   "name": "python3"
  },
  "language_info": {
   "codemirror_mode": {
    "name": "ipython",
    "version": 3
   },
   "file_extension": ".py",
   "mimetype": "text/x-python",
   "name": "python",
   "nbconvert_exporter": "python",
   "pygments_lexer": "ipython3",
   "version": "3.10.2"
  }
 },
 "nbformat": 4,
 "nbformat_minor": 5
}
