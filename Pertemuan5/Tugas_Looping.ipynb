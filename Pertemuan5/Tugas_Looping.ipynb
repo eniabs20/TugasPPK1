{
 "cells": [
  {
   "cell_type": "markdown",
   "id": "8100bfb1-ee65-468b-a88c-c3029cf2f04a",
   "metadata": {},
   "source": [
    "Anggraeni Bakti Setianingrum\n",
    "\n",
    "200601110075"
   ]
  },
  {
   "cell_type": "markdown",
   "id": "0b7390e7-141c-4b6c-a600-84e11a38a856",
   "metadata": {},
   "source": [
    "# Tugas Looping"
   ]
  },
  {
   "cell_type": "markdown",
   "id": "fc3205af-ea90-4a90-9541-1787b392b9cf",
   "metadata": {},
   "source": [
    "(1) Buatlah program yang meminta masukan user sebuah bilangan bulat N di mana (N > 0). Program kemudian menampilkan penjumlahan N bilangan genap positif pertama (bilangan genap ≥ 0). \n",
    "\n",
    "Contoh : \n",
    "\n",
    "• Jika user memasukkan N = 3, maka outputnya: 0 + 2 + 4 = 6 \n",
    "\n",
    "• Jika user memasukkan N = 5, maka outputnya: 0 + 2 + 4 + 6 + 8 = 20 "
   ]
  },
  {
   "cell_type": "code",
   "execution_count": 16,
   "id": "9293fbc8-6b23-40e7-9d2d-944e9a951f96",
   "metadata": {},
   "outputs": [
    {
     "name": "stdout",
     "output_type": "stream",
     "text": [
      "Menghitung Jumlah N Bilangan Genap Positif Pertama\n",
      "\n"
     ]
    },
    {
     "name": "stdin",
     "output_type": "stream",
     "text": [
      "Masukkan Nilai N : 5\n"
     ]
    },
    {
     "name": "stdout",
     "output_type": "stream",
     "text": [
      "Masukkan Nilai N : 5\n",
      "Bilangan Genap Positif Ke - 1  : 0\n",
      "Bilangan Genap Positif Ke - 2  : 2\n",
      "Bilangan Genap Positif Ke - 3  : 4\n",
      "Bilangan Genap Positif Ke - 4  : 6\n",
      "Bilangan Genap Positif Ke - 5  : 8\n",
      "\n",
      "Jumlah bilangan genap positif dari 5 bilangan diatas adalah 20\n"
     ]
    }
   ],
   "source": [
    "print('Menghitung Jumlah N Bilangan Genap Positif Pertama')\n",
    "N = int(input('Masukkan Nilai N :'))\n",
    "print('Masukkan Nilai N :',N)\n",
    "count = 0\n",
    "sum = 0\n",
    "for i in range (0,N*2,2):\n",
    "    if i % 2 == 0:\n",
    "        count = count + 1\n",
    "        sum = sum + i\n",
    "        print('Bilangan Genap Positif Ke -',count, ' :',i)\n",
    "print()       \n",
    "print('Jumlah bilangan genap positif dari',N,'bilangan diatas adalah',sum)"
   ]
  },
  {
   "cell_type": "markdown",
   "id": "9c7335ed-8126-4dc0-82f0-c800989a0533",
   "metadata": {},
   "source": [
    "                "
   ]
  },
  {
   "cell_type": "markdown",
   "id": "3ecb6f78-c0a9-4593-8368-32aaf9404ac9",
   "metadata": {},
   "source": [
    "(2) Buatlah sebuah program yang meminta masukan user sebuah bilangan bulat N dimana (N > 0). Kemudian, program menampilkan penjumlahan N bilangan kuadrat pertama. Bilangan kuadrat adalah = 1,4,9,16,25,36,...., N 2 . \n",
    "\n",
    "Contoh : \n",
    "\n",
    "• Jika user memasukkan N = 2, maka outputnya: 1 + 4 = 5 \n",
    "\n",
    "• Jika user memasukkan N = 3, maka outputnya: 1 + 4 + 9 = 14 "
   ]
  },
  {
   "cell_type": "code",
   "execution_count": 17,
   "id": "363e2dde-3517-4d77-b87f-106351c95639",
   "metadata": {},
   "outputs": [
    {
     "name": "stdout",
     "output_type": "stream",
     "text": [
      "Menghitung Jumlah N Bilangan Kuadrat Pertama\n"
     ]
    },
    {
     "name": "stdin",
     "output_type": "stream",
     "text": [
      "Masukkan Nilai N : 3\n"
     ]
    },
    {
     "name": "stdout",
     "output_type": "stream",
     "text": [
      "Masukkan Nilai N : 3\n",
      "Bilangan Kuadrat Ke - 1  : 1\n",
      "Bilangan Kuadrat Ke - 2  : 4\n",
      "Bilangan Kuadrat Ke - 3  : 9\n",
      "\n",
      "Jumlah bilangan kuadrat dari 3 bilangan diatas adalah 14\n"
     ]
    }
   ],
   "source": [
    "print('Menghitung Jumlah N Bilangan Kuadrat Pertama')\n",
    "N = int(input('Masukkan Nilai N :'))\n",
    "print('Masukkan Nilai N :',N)\n",
    "count = 0 \n",
    "sum = 0\n",
    "for i in range(1,N+1):\n",
    "    if i > 0:\n",
    "        count = count + 1\n",
    "        sum = sum + i*i\n",
    "        print('Bilangan Kuadrat Ke -',count, ' :',i*i)\n",
    "print()        \n",
    "print('Jumlah bilangan kuadrat dari',N,'bilangan diatas adalah',sum)"
   ]
  },
  {
   "cell_type": "markdown",
   "id": "0864b4c5-df46-43e5-8714-3109c95850e5",
   "metadata": {},
   "source": [
    "        "
   ]
  },
  {
   "cell_type": "markdown",
   "id": "4e2ca066-c557-463c-a4f3-04eb3a025fcf",
   "metadata": {},
   "source": [
    "(3) Buatlah sebuah program yang meminta masukan user sebuah bilangan bulat N dimana (N > 0). Program kemudian memeriksa setiap digit yang ada di angka tersebut, dan menampilkan berapa jumlah digit yang ganjil dari bilangan N tersebut. \n",
    "\n",
    "Contoh :\n",
    "\n",
    "• Jika user memasukkan N = 2345, jumlah digit yang ganjil = 2 \n",
    "\n",
    "• Jika user memasukkan N = 993312, jumlah digit yang ganjil = 5 "
   ]
  },
  {
   "cell_type": "code",
   "execution_count": 18,
   "id": "02068aea-2607-49a2-b102-efe12f7bf50b",
   "metadata": {},
   "outputs": [
    {
     "name": "stdout",
     "output_type": "stream",
     "text": [
      "Menampilkan Berapa Jumlah Digit yang Ganjil dari Bilangan N\n"
     ]
    },
    {
     "name": "stdin",
     "output_type": "stream",
     "text": [
      "Masukkan Nilai N : 993312\n"
     ]
    },
    {
     "name": "stdout",
     "output_type": "stream",
     "text": [
      "Masukkan Nilai N : 993312\n",
      "\n",
      "Jumlah digit yang ganjil dari 993312 adalah 5\n"
     ]
    }
   ],
   "source": [
    "print('Menampilkan Berapa Jumlah Digit yang Ganjil dari Bilangan N')\n",
    "N = (input('Masukkan Nilai N :'))\n",
    "print('Masukkan Nilai N :',N)\n",
    "count = 0\n",
    "Ganjil = ''\n",
    "for i in N:\n",
    "    if i in '13579':\n",
    "        count += 1\n",
    "        Ganjil = Ganjil+i+''\n",
    "print()\n",
    "print('Jumlah digit yang ganjil dari',N,'adalah ' + str(count))"
   ]
  },
  {
   "cell_type": "code",
   "execution_count": null,
   "id": "f9ce7478-0f7a-4aab-b37c-42bd2afd9079",
   "metadata": {},
   "outputs": [],
   "source": []
  }
 ],
 "metadata": {
  "kernelspec": {
   "display_name": "Python 3 (ipykernel)",
   "language": "python",
   "name": "python3"
  },
  "language_info": {
   "codemirror_mode": {
    "name": "ipython",
    "version": 3
   },
   "file_extension": ".py",
   "mimetype": "text/x-python",
   "name": "python",
   "nbconvert_exporter": "python",
   "pygments_lexer": "ipython3",
   "version": "3.10.2"
  }
 },
 "nbformat": 4,
 "nbformat_minor": 5
}
