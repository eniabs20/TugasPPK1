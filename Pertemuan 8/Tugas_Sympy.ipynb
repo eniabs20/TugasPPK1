{
  "cells": [
    {
      "cell_type": "markdown",
      "id": "fc781705-b90a-4084-b589-02de7d79ca0d",
      "metadata": {
        "id": "fc781705-b90a-4084-b589-02de7d79ca0d"
      },
      "source": [
        "## Anggraeni Bakti Setianingrum\n",
        "\n",
        "## 200601110075"
      ]
    },
    {
      "cell_type": "markdown",
      "id": "2d8e6c5f-8f6a-42d7-bdef-fd927a461f8f",
      "metadata": {
        "id": "2d8e6c5f-8f6a-42d7-bdef-fd927a461f8f"
      },
      "source": [
        "----------------------------------------------------------------------------------------------------------------------------"
      ]
    },
    {
      "cell_type": "markdown",
      "id": "51e08f80-d239-49e1-8791-0a4005f93d23",
      "metadata": {
        "id": "51e08f80-d239-49e1-8791-0a4005f93d23"
      },
      "source": [
        "# Tugas"
      ]
    },
    {
      "cell_type": "markdown",
      "id": "e1c8aa00-7c5d-49c1-9a81-40f1873f5f08",
      "metadata": {
        "id": "e1c8aa00-7c5d-49c1-9a81-40f1873f5f08"
      },
      "source": [
        "Silahkan buat 5 soal matematika beserta penyelesaiannya menggunakan bantuan sympy. Buat file .ipynb kemudian upload di github dan kumpulkan link nya di elearning."
      ]
    },
    {
      "cell_type": "markdown",
      "id": "0d876b77-d5fe-4f46-817e-1005d5b12ba4",
      "metadata": {
        "id": "0d876b77-d5fe-4f46-817e-1005d5b12ba4"
      },
      "source": [
        "-------------------------------------------------------------------------------------------------------------------------"
      ]
    },
    {
      "cell_type": "code",
      "source": [
        "from PIL import Image\n",
        "print('1. Tentukan turunan pertama dari fungsi')\n",
        "img = Image.open('1.png')\n",
        "img"
      ],
      "metadata": {
        "colab": {
          "base_uri": "https://localhost:8080/",
          "height": 66
        },
        "id": "caE-vCa-blq4",
        "outputId": "08386cfd-c630-47c2-de40-42e3d7f45dc3"
      },
      "id": "caE-vCa-blq4",
      "execution_count": 29,
      "outputs": [
        {
          "output_type": "stream",
          "name": "stdout",
          "text": [
            "1. Tentukan turunan pertama dari fungsi\n"
          ]
        },
        {
          "output_type": "execute_result",
          "data": {
            "text/plain": [
              "<PIL.PngImagePlugin.PngImageFile image mode=RGB size=129x31 at 0x7F5C14C21550>"
            ],
            "image/png": "[encoded data removed]"
          },
          "metadata": {},
          "execution_count": 29
        }
      ]
    },
    {
      "cell_type": "code",
      "execution_count": null,
      "id": "fe78b84c-e7ab-43de-afb4-c68a26450327",
      "metadata": {
        "colab": {
          "base_uri": "https://localhost:8080/",
          "height": 38
        },
        "id": "fe78b84c-e7ab-43de-afb4-c68a26450327",
        "outputId": "bbb44948-1865-467b-ebf5-7906d6e324bd"
      },
      "outputs": [
        {
          "output_type": "execute_result",
          "data": {
            "text/plain": [
              "   2          \n",
              "3⋅x  - 4⋅x + 3"
            ],
            "image/png": "[encoded data removed]",
            "text/latex": "$\\displaystyle 3 x^{2} - 4 x + 3$"
          },
          "metadata": {},
          "execution_count": 9
        }
      ],
      "source": [
        "from sympy import *\n",
        "x = symbols('x')\n",
        "init_printing(use_unicode=True)\n",
        "diff(x**3 - 2*x**2 + 3*x, x)"
      ]
    },
    {
      "cell_type": "markdown",
      "source": [
        "------------------------------------------------------------------------------------------------------"
      ],
      "metadata": {
        "id": "QKCqZbI9bPAb"
      },
      "id": "QKCqZbI9bPAb"
    },
    {
      "cell_type": "code",
      "source": [
        "from PIL import Image\n",
        "print('2. Hitunglah nilai limit berikut')\n",
        "img = Image.open('2.png')\n",
        "img"
      ],
      "metadata": {
        "colab": {
          "base_uri": "https://localhost:8080/",
          "height": 100
        },
        "id": "f1bSRdlKbGu2",
        "outputId": "335e0228-1d43-4d9d-a909-49a3e2804c69"
      },
      "id": "f1bSRdlKbGu2",
      "execution_count": 30,
      "outputs": [
        {
          "output_type": "stream",
          "name": "stdout",
          "text": [
            "2. Hitunglah nilai limit berikut\n"
          ]
        },
        {
          "output_type": "execute_result",
          "data": {
            "text/plain": [
              "<PIL.PngImagePlugin.PngImageFile image mode=RGB size=171x65 at 0x7F5C14B26610>"
            ],
            "image/png": "[encoded data removed]"
          },
          "metadata": {},
          "execution_count": 30
        }
      ]
    },
    {
      "cell_type": "code",
      "execution_count": null,
      "id": "aff10ca9-c8ed-4bb2-87e7-17beec236bfe",
      "metadata": {
        "colab": {
          "base_uri": "https://localhost:8080/",
          "height": 51
        },
        "id": "aff10ca9-c8ed-4bb2-87e7-17beec236bfe",
        "outputId": "73841f7d-93a1-4c63-91de-3e7f5f8f5cbb"
      },
      "outputs": [
        {
          "output_type": "execute_result",
          "data": {
            "text/plain": [
              "1/2"
            ],
            "image/png": "[encoded data removed]",
            "text/latex": "$\\displaystyle \\frac{1}{2}$"
          },
          "metadata": {},
          "execution_count": 10
        }
      ],
      "source": [
        "from sympy import *\n",
        "x = symbols('x')\n",
        "init_printing(use_unicode=True)\n",
        "limit(2/(x-2)-8/(x**2-4), x, 2)"
      ]
    },
    {
      "cell_type": "markdown",
      "source": [
        "-------------------------------------------------------------------------------------------------"
      ],
      "metadata": {
        "id": "BvzvJAvbLWfG"
      },
      "id": "BvzvJAvbLWfG"
    },
    {
      "cell_type": "code",
      "source": [
        "from PIL import Image\n",
        "print('3. Sederhanakan bentuk pecahan aljabar dari')\n",
        "img = Image.open('3.png')\n",
        "img"
      ],
      "metadata": {
        "colab": {
          "base_uri": "https://localhost:8080/",
          "height": 120
        },
        "id": "c6-dT3r1cjkk",
        "outputId": "7fc9bae2-de5f-4769-f025-8a3c61637de1"
      },
      "id": "c6-dT3r1cjkk",
      "execution_count": 34,
      "outputs": [
        {
          "output_type": "stream",
          "name": "stdout",
          "text": [
            "3. Sederhanakan bentuk pecahan aljabar dari\n"
          ]
        },
        {
          "output_type": "execute_result",
          "data": {
            "text/plain": [
              "<PIL.PngImagePlugin.PngImageFile image mode=RGB size=144x84 at 0x7F5C14BD0310>"
            ],
            "image/png": "[encoded data removed]"
          },
          "metadata": {},
          "execution_count": 34
        }
      ]
    },
    {
      "cell_type": "code",
      "source": [
        "from sympy import *\n",
        "x = symbols('x')\n",
        "init_printing(use_unicode=True)\n",
        "simplify(1/(x+3) + 4/(2*x+6))"
      ],
      "metadata": {
        "colab": {
          "base_uri": "https://localhost:8080/",
          "height": 52
        },
        "id": "mgKvgN7WR04Y",
        "outputId": "72be039f-4017-41bb-f4b1-740165a6d833"
      },
      "id": "mgKvgN7WR04Y",
      "execution_count": 19,
      "outputs": [
        {
          "output_type": "execute_result",
          "data": {
            "text/plain": [
              "  3  \n",
              "─────\n",
              "x + 3"
            ],
            "image/png": "[encoded data removed]",
            "text/latex": "$\\displaystyle \\frac{3}{x + 3}$"
          },
          "metadata": {},
          "execution_count": 19
        }
      ]
    },
    {
      "cell_type": "markdown",
      "source": [
        "----------------------------------------------------------------------------------"
      ],
      "metadata": {
        "id": "oDuI7ipQRvpN"
      },
      "id": "oDuI7ipQRvpN"
    },
    {
      "cell_type": "code",
      "source": [
        "from PIL import Image\n",
        "print('4. Tentukan hasil dari')\n",
        "img = Image.open('4.png')\n",
        "img"
      ],
      "metadata": {
        "colab": {
          "base_uri": "https://localhost:8080/",
          "height": 80
        },
        "id": "EP3Yc3hDdBz_",
        "outputId": "be83fc20-8c3e-4e48-eb0f-d5caa60b42c8"
      },
      "id": "EP3Yc3hDdBz_",
      "execution_count": 32,
      "outputs": [
        {
          "output_type": "stream",
          "name": "stdout",
          "text": [
            "4. Tentukan hasil dari\n"
          ]
        },
        {
          "output_type": "execute_result",
          "data": {
            "text/plain": [
              "<PIL.PngImagePlugin.PngImageFile image mode=RGB size=136x44 at 0x7F5C14B51110>"
            ],
            "image/png": "[encoded data removed]"
          },
          "metadata": {},
          "execution_count": 32
        }
      ]
    },
    {
      "cell_type": "code",
      "source": [
        "from sympy import *\n",
        "x = symbols('x')\n",
        "init_printing(use_unicode=True)\n",
        "integ = Integral ((x**2+1)*sin(x), x)\n",
        "integ.doit()"
      ],
      "metadata": {
        "colab": {
          "base_uri": "https://localhost:8080/",
          "height": 38
        },
        "id": "mDDMgABcNXAP",
        "outputId": "c2925f53-1b5e-4195-8ba4-1c200f54a640"
      },
      "id": "mDDMgABcNXAP",
      "execution_count": 17,
      "outputs": [
        {
          "output_type": "execute_result",
          "data": {
            "text/plain": [
              "   2                             \n",
              "- x ⋅cos(x) + 2⋅x⋅sin(x) + cos(x)"
            ],
            "image/png": "[encoded data removed]",
            "text/latex": "$\\displaystyle - x^{2} \\cos{\\left(x \\right)} + 2 x \\sin{\\left(x \\right)} + \\cos{\\left(x \\right)}$"
          },
          "metadata": {},
          "execution_count": 17
        }
      ]
    },
    {
      "cell_type": "markdown",
      "source": [
        "---------------------------------------------------------------------------------------"
      ],
      "metadata": {
        "id": "geqr4hqzdM7-"
      },
      "id": "geqr4hqzdM7-"
    },
    {
      "cell_type": "code",
      "source": [
        "from PIL import Image\n",
        "print('5. Hitung Det(AB+C) dari matriks')\n",
        "img = Image.open('5.png')\n",
        "img"
      ],
      "metadata": {
        "colab": {
          "base_uri": "https://localhost:8080/",
          "height": 98
        },
        "id": "sHHHjAEUdPi5",
        "outputId": "5bc84dd4-9883-4b6b-bdfd-15196d2ba6b5"
      },
      "id": "sHHHjAEUdPi5",
      "execution_count": 33,
      "outputs": [
        {
          "output_type": "stream",
          "name": "stdout",
          "text": [
            "5. Hitung Det(AB+C) dari matriks\n"
          ]
        },
        {
          "output_type": "execute_result",
          "data": {
            "text/plain": [
              "<PIL.PngImagePlugin.PngImageFile image mode=RGB size=261x63 at 0x7F5C14B513D0>"
            ],
            "image/png": "[encoded data removed]"
          },
          "metadata": {},
          "execution_count": 33
        }
      ]
    },
    {
      "cell_type": "code",
      "source": [
        "from sympy import *\n",
        "init_printing(use_unicode=True)\n",
        "A = Matrix([[1,2],[3,4]])\n",
        "B = Matrix([[1,1],[0,1]])\n",
        "C = Matrix([[2,5],[3,7]])\n",
        "D = A*B + C\n",
        "D.det()"
      ],
      "metadata": {
        "colab": {
          "base_uri": "https://localhost:8080/",
          "height": 37
        },
        "id": "Zld5Q_fAS5Fg",
        "outputId": "b5989641-fbf9-488e-a1fa-8536f9bf555b"
      },
      "id": "Zld5Q_fAS5Fg",
      "execution_count": 20,
      "outputs": [
        {
          "output_type": "execute_result",
          "data": {
            "text/plain": [
              "-6"
            ],
            "image/png": "[encoded data removed]",
            "text/latex": "$\\displaystyle -6$"
          },
          "metadata": {},
          "execution_count": 20
        }
      ]
    }
  ],
  "metadata": {
    "kernelspec": {
      "display_name": "Python 3 (ipykernel)",
      "language": "python",
      "name": "python3"
    },
    "language_info": {
      "codemirror_mode": {
        "name": "ipython",
        "version": 3
      },
      "file_extension": ".py",
      "mimetype": "text/x-python",
      "name": "python",
      "nbconvert_exporter": "python",
      "pygments_lexer": "ipython3",
      "version": "3.10.2"
    },
    "colab": {
      "name": "Tugas_Sympy.ipynb",
      "provenance": []
    }
  },
  "nbformat": 4,
  "nbformat_minor": 5
}