{
 "cells": [
  {
   "cell_type": "markdown",
   "id": "e56b18a3-2174-4915-9042-4ce0ad8e7d85",
   "metadata": {},
   "source": [
    "## Catatan Pertemuan 3\n",
    "# Tipe Koleksi"
   ]
  },
  {
   "cell_type": "markdown",
   "id": "6c92d777-c29a-45f1-bde2-4b6bee608ade",
   "metadata": {},
   "source": [
    "**1. Tipe List**\n",
    "\n",
    "List merupakan objek yang bersifat mutable atau nilainya dapat diubah. Kita dapat menambah, mengubah, maupun menghapus elemen-elemen yang terdapat di dalam list. Objek list dibuat menggunakan tanda [ ]. Setiap objek atau elemen yang terdapat didalam list harus dibatasi menggunakan tanda koma, tapi tidak harus sejenis. Artinya, bisa saja list berisi beberapa objek yang berasal dari tipe berlainan, misalnya str, int, dan sebagainya."
   ]
  },
  {
   "cell_type": "code",
   "execution_count": 1,
   "id": "7af73a76-d0d3-46e8-bf71-84dce656a430",
   "metadata": {},
   "outputs": [
    {
     "data": {
      "text/plain": [
       "[100, 200, 300, 400]"
      ]
     },
     "execution_count": 1,
     "metadata": {},
     "output_type": "execute_result"
    }
   ],
   "source": [
    "list1 = [100, 200, 300, 400]\n",
    "list1"
   ]
  },
  {
   "cell_type": "code",
   "execution_count": 2,
   "id": "6095ed04-40fd-498b-a54f-5e5ffce4c27d",
   "metadata": {},
   "outputs": [
    {
     "data": {
      "text/plain": [
       "[1, 'Pemrograman Komputer', 12000.0]"
      ]
     },
     "execution_count": 2,
     "metadata": {},
     "output_type": "execute_result"
    }
   ],
   "source": [
    "list2 = [1, 'Pemrograman Komputer', 12000.000]\n",
    "list2"
   ]
  },
  {
   "cell_type": "code",
   "execution_count": 3,
   "id": "9fa8ab1f-e6cd-45fb-929d-f8663868d43a",
   "metadata": {},
   "outputs": [
    {
     "data": {
      "text/plain": [
       "[10, 8, 12, 6, 15]"
      ]
     },
     "execution_count": 3,
     "metadata": {},
     "output_type": "execute_result"
    }
   ],
   "source": [
    "list = [10, 8, 12, 6, 15]\n",
    "list"
   ]
  },
  {
   "cell_type": "code",
   "execution_count": 4,
   "id": "fde47eb5-b90b-48b4-88e8-072fec89491e",
   "metadata": {},
   "outputs": [
    {
     "data": {
      "text/plain": [
       "5"
      ]
     },
     "execution_count": 4,
     "metadata": {},
     "output_type": "execute_result"
    }
   ],
   "source": [
    "len(list) #Menghitung banyaknya elemen didalam list"
   ]
  },
  {
   "cell_type": "code",
   "execution_count": 5,
   "id": "5ec4520a-0b1d-4fa0-a8b1-976730b7a09f",
   "metadata": {},
   "outputs": [
    {
     "data": {
      "text/plain": [
       "[10, 8, 12, 6, 15]"
      ]
     },
     "execution_count": 5,
     "metadata": {},
     "output_type": "execute_result"
    }
   ],
   "source": [
    "li = [10, 8, 12, 6, 15]\n",
    "li"
   ]
  },
  {
   "cell_type": "code",
   "execution_count": 6,
   "id": "5d4e888c-3157-4b86-b1d3-2814b178a21d",
   "metadata": {},
   "outputs": [
    {
     "data": {
      "text/plain": [
       "(10, 8, 12, 6, 15)"
      ]
     },
     "execution_count": 6,
     "metadata": {},
     "output_type": "execute_result"
    }
   ],
   "source": [
    "li[0], li[1], li[2], li[3], li[4]"
   ]
  },
  {
   "cell_type": "code",
   "execution_count": 7,
   "id": "fb8840f4-8a80-4a5b-af5b-6803b7929643",
   "metadata": {},
   "outputs": [
    {
     "data": {
      "text/plain": [
       "(10, 8, 12, 6, 15)"
      ]
     },
     "execution_count": 7,
     "metadata": {},
     "output_type": "execute_result"
    }
   ],
   "source": [
    "li[-5], li[-4], li[-3], li[-2], li[-1]"
   ]
  },
  {
   "cell_type": "code",
   "execution_count": 8,
   "id": "8cda6659-0329-4db2-bc71-d04460064e9e",
   "metadata": {},
   "outputs": [
    {
     "data": {
      "text/plain": [
       "[10, 8, 12, 6, 15, 20, 25]"
      ]
     },
     "execution_count": 8,
     "metadata": {},
     "output_type": "execute_result"
    }
   ],
   "source": [
    "li.append(20) #Menambah elemen dalam list\n",
    "li.append(25)\n",
    "li"
   ]
  },
  {
   "cell_type": "code",
   "execution_count": 9,
   "id": "78f79493-062a-4a53-b79a-9d50c96c8d07",
   "metadata": {},
   "outputs": [
    {
     "data": {
      "text/plain": [
       "[10, 8, 12, 6, 15, 20, 25, 100, 200, 300]"
      ]
     },
     "execution_count": 9,
     "metadata": {},
     "output_type": "execute_result"
    }
   ],
   "source": [
    "li.extend([100, 200, 300]) #Menambah list dalam sebuah list\n",
    "li"
   ]
  },
  {
   "cell_type": "code",
   "execution_count": 10,
   "id": "e1da5a87-b71b-4916-99b0-5c1940cf28d6",
   "metadata": {},
   "outputs": [
    {
     "data": {
      "text/plain": [
       "[99, 77, 12, 6, 15, 20, 25, 100, 200, 300]"
      ]
     },
     "execution_count": 10,
     "metadata": {},
     "output_type": "execute_result"
    }
   ],
   "source": [
    "li[0] = 99\n",
    "li[1] = 77\n",
    "li"
   ]
  },
  {
   "cell_type": "code",
   "execution_count": 11,
   "id": "dc6fb650-03c0-4c9e-8b87-425bf91c8b92",
   "metadata": {},
   "outputs": [
    {
     "data": {
      "text/plain": [
       "[77, 12, 6, 20, 25, 100, 200]"
      ]
     },
     "execution_count": 11,
     "metadata": {},
     "output_type": "execute_result"
    }
   ],
   "source": [
    "li.remove(99) #Menghapus elemen didalam list\n",
    "li.remove(300)\n",
    "li.remove(15)\n",
    "li"
   ]
  },
  {
   "cell_type": "code",
   "execution_count": 12,
   "id": "69860d27-1754-4100-8b4d-a4f9703f2c91",
   "metadata": {},
   "outputs": [
    {
     "data": {
      "text/plain": [
       "[]"
      ]
     },
     "execution_count": 12,
     "metadata": {},
     "output_type": "execute_result"
    }
   ],
   "source": [
    "li.clear() #Menghapus semua elemen didalam list\n",
    "li"
   ]
  },
  {
   "cell_type": "markdown",
   "id": "306e3111-5596-4f2f-8826-03f40643936b",
   "metadata": {},
   "source": [
    "**2. Tipe Dictionary**\n",
    "\n",
    "Dictionary (kamus) atau sering juga disebut tipe mapping merupakan objek yang berisi daftar pasangan kunci dan nilai (key-value pair). Pada struktur data list, elemen-elemen diindeks berdasarkan bilangan positif maupun negatif tergantung dari arah mana elemen-elemen tersebut akan diakses. Pada struktur data dictionary, elemen-elemen akan diindeks berdasarkan kuncinya. Objek yang dijadikan sebagai kunci dapat berasal dari tipe apa saja,tapi pada umumnya berupa string, atau paling tidak berupa bilangan. Berbeda dengan list, dictionary dibuat menggunakan { }. Setiap pasangan kunci dan nilai harus dipisahkan menggunakan tanda ( : ).\n"
   ]
  },
  {
   "cell_type": "code",
   "execution_count": 13,
   "id": "be1c7f90-d826-43bb-b85e-e20f7c3911de",
   "metadata": {},
   "outputs": [
    {
     "data": {
      "text/plain": [
       "{'A': 4, 'B': 3, 'C': 2, 'D': 1, 'E': 0}"
      ]
     },
     "execution_count": 13,
     "metadata": {},
     "output_type": "execute_result"
    }
   ],
   "source": [
    "na = {'A':4, 'B':3, 'C':2, 'D':1, 'E':0}\n",
    "na"
   ]
  },
  {
   "cell_type": "code",
   "execution_count": 14,
   "id": "cf04279b-1096-463b-860a-110b8f4f84e1",
   "metadata": {},
   "outputs": [
    {
     "data": {
      "text/plain": [
       "dict_keys(['A', 'B', 'C', 'D', 'E'])"
      ]
     },
     "execution_count": 14,
     "metadata": {},
     "output_type": "execute_result"
    }
   ],
   "source": [
    "na.keys() #Menampilkan kata kunci (key) dalam Dictionary"
   ]
  },
  {
   "cell_type": "code",
   "execution_count": 15,
   "id": "f301d69c-1ef1-4e2b-9881-a40dbdbb6b8b",
   "metadata": {},
   "outputs": [
    {
     "data": {
      "text/plain": [
       "dict_values([4, 3, 2, 1, 0])"
      ]
     },
     "execution_count": 15,
     "metadata": {},
     "output_type": "execute_result"
    }
   ],
   "source": [
    "na.values() #Menampilkan kata value dalam Dictionary"
   ]
  },
  {
   "cell_type": "code",
   "execution_count": 16,
   "id": "04e849a5-42db-4460-ac2a-a34067869048",
   "metadata": {},
   "outputs": [
    {
     "data": {
      "text/plain": [
       "4"
      ]
     },
     "execution_count": 16,
     "metadata": {},
     "output_type": "execute_result"
    }
   ],
   "source": [
    "na['A']"
   ]
  },
  {
   "cell_type": "code",
   "execution_count": 17,
   "id": "5fb92b45-a2fe-4846-813f-d86b8405f06c",
   "metadata": {},
   "outputs": [
    {
     "data": {
      "text/plain": [
       "3"
      ]
     },
     "execution_count": 17,
     "metadata": {},
     "output_type": "execute_result"
    }
   ],
   "source": [
    "na['B']"
   ]
  },
  {
   "cell_type": "code",
   "execution_count": 18,
   "id": "df4f18e6-3338-4b92-a5fd-1b29a9b2555e",
   "metadata": {},
   "outputs": [
    {
     "data": {
      "text/plain": [
       "2"
      ]
     },
     "execution_count": 18,
     "metadata": {},
     "output_type": "execute_result"
    }
   ],
   "source": [
    "na['C']"
   ]
  },
  {
   "cell_type": "code",
   "execution_count": 19,
   "id": "5b955544-7f3a-4a54-ac30-b59cbf5e80bc",
   "metadata": {},
   "outputs": [
    {
     "data": {
      "text/plain": [
       "'kucing'"
      ]
     },
     "execution_count": 19,
     "metadata": {},
     "output_type": "execute_result"
    }
   ],
   "source": [
    "kamus={'mouse':'tikus', 'cat':'kucing'}\n",
    "kamus['cat']"
   ]
  },
  {
   "cell_type": "code",
   "execution_count": 20,
   "id": "f06fe641-56e3-4f69-9b20-2f3e99db72eb",
   "metadata": {},
   "outputs": [
    {
     "data": {
      "text/plain": [
       "dict_keys(['mouse', 'cat'])"
      ]
     },
     "execution_count": 20,
     "metadata": {},
     "output_type": "execute_result"
    }
   ],
   "source": [
    "kamus.keys()"
   ]
  },
  {
   "cell_type": "code",
   "execution_count": 21,
   "id": "8f9a8463-08f9-4b14-a647-b4967695a128",
   "metadata": {},
   "outputs": [
    {
     "data": {
      "text/plain": [
       "dict_values(['tikus', 'kucing'])"
      ]
     },
     "execution_count": 21,
     "metadata": {},
     "output_type": "execute_result"
    }
   ],
   "source": [
    "kamus.values()"
   ]
  },
  {
   "cell_type": "markdown",
   "id": "fcb3e1f7-ca7b-4440-874b-fcbd16bfff8a",
   "metadata": {},
   "source": [
    "**3. Tipe Tuple**\n",
    "\n",
    "Tuple adalah tipe koleksi yang mirip dengan list. Pebedaannya,tuple bersifat immutable atau elemen-elemennya tidak dapat diubah, baik nilainya maupun jumlah elemennya. Ini berarti bahwa kita tidak dapat menambah, mengubah, atau menghapus elemen di dalam tuple. Dengan kata lain, tuple merupakan koleksi yang bersifat konstan. Tuple dibuat menggunakan tanda ( )."
   ]
  },
  {
   "cell_type": "code",
   "execution_count": 22,
   "id": "8840a779-8dd1-4450-ae7a-ed6e755d347b",
   "metadata": {},
   "outputs": [
    {
     "data": {
      "text/plain": [
       "10"
      ]
     },
     "execution_count": 22,
     "metadata": {},
     "output_type": "execute_result"
    }
   ],
   "source": [
    "t = (10, 20, 30)\n",
    "t[0]"
   ]
  },
  {
   "cell_type": "code",
   "execution_count": 23,
   "id": "8e4b8781-bf6a-42da-9933-9b0020551104",
   "metadata": {},
   "outputs": [
    {
     "data": {
      "text/plain": [
       "20"
      ]
     },
     "execution_count": 23,
     "metadata": {},
     "output_type": "execute_result"
    }
   ],
   "source": [
    "t[1]"
   ]
  },
  {
   "cell_type": "code",
   "execution_count": 24,
   "id": "a1309489-4d80-4a6f-a6c5-9d92bce8ce67",
   "metadata": {},
   "outputs": [
    {
     "data": {
      "text/plain": [
       "30"
      ]
     },
     "execution_count": 24,
     "metadata": {},
     "output_type": "execute_result"
    }
   ],
   "source": [
    "t[2]"
   ]
  },
  {
   "cell_type": "code",
   "execution_count": 25,
   "id": "e91e80be-b1d9-411a-918b-c3001243cfed",
   "metadata": {},
   "outputs": [
    {
     "data": {
      "text/plain": [
       "(10, 20, 30)"
      ]
     },
     "execution_count": 25,
     "metadata": {},
     "output_type": "execute_result"
    }
   ],
   "source": [
    "t[-3], t[-2], t[-1]"
   ]
  },
  {
   "cell_type": "code",
   "execution_count": 26,
   "id": "3de7a77a-2201-423b-be28-95f9c26e889c",
   "metadata": {},
   "outputs": [
    {
     "data": {
      "text/plain": [
       "3"
      ]
     },
     "execution_count": 26,
     "metadata": {},
     "output_type": "execute_result"
    }
   ],
   "source": [
    "len(t) #Menghitung banyaknya elemen didalam Tuple"
   ]
  },
  {
   "cell_type": "markdown",
   "id": "0086d614-9e0e-4566-92c2-ba4605fbefa3",
   "metadata": {},
   "source": [
    "**4. Tipe Set**\n",
    "\n",
    "Set (himpunan) adalah tipe koleksi yang setiap elemennya bersifat unik. Dengan demikian, di dalam set tidak akan pernah ada duplikasi nilai elemen. Jika pada saat pembuatan set terdapat beberapa elemen yang nilainya sama, maka elemen-elementer sebut hanya akan diambil satu, sisanya secara otomatis akan dibuang. Set dibuat menggunakan fungsi set( ) dengan parameter bisa berupa list, dictionary, tuple, maupun string."
   ]
  },
  {
   "cell_type": "code",
   "execution_count": 27,
   "id": "a27e350d-b8cb-4f01-b139-4a83f2bb5ddd",
   "metadata": {},
   "outputs": [
    {
     "data": {
      "text/plain": [
       "{10, 20, 30}"
      ]
     },
     "execution_count": 27,
     "metadata": {},
     "output_type": "execute_result"
    }
   ],
   "source": [
    "s = set([10, 10, 20, 30, 30, 30])\n",
    "s"
   ]
  },
  {
   "cell_type": "code",
   "execution_count": 28,
   "id": "01edd587-d762-45c8-b83b-0c899ee9afb8",
   "metadata": {},
   "outputs": [
    {
     "data": {
      "text/plain": [
       "3"
      ]
     },
     "execution_count": 28,
     "metadata": {},
     "output_type": "execute_result"
    }
   ],
   "source": [
    "len(s)"
   ]
  },
  {
   "cell_type": "code",
   "execution_count": 29,
   "id": "3123cd0b-9bb8-4c73-837e-5acaf679b080",
   "metadata": {},
   "outputs": [
    {
     "data": {
      "text/plain": [
       "{10, 20, 30, 60}"
      ]
     },
     "execution_count": 29,
     "metadata": {},
     "output_type": "execute_result"
    }
   ],
   "source": [
    "s.add(60) #Menambah anggota himpunan(set)\n",
    "s"
   ]
  },
  {
   "cell_type": "code",
   "execution_count": 30,
   "id": "c9ff1b96-583b-465e-b076-68fa62474898",
   "metadata": {},
   "outputs": [
    {
     "data": {
      "text/plain": [
       "4"
      ]
     },
     "execution_count": 30,
     "metadata": {},
     "output_type": "execute_result"
    }
   ],
   "source": [
    "len(s)"
   ]
  },
  {
   "cell_type": "markdown",
   "id": "0e2631f9-f695-4183-97bd-09238e31b690",
   "metadata": {
    "tags": []
   },
   "source": [
    "# Fungsi\n",
    "\n",
    "Fungsi adalah bagian atau blok program yang berisi satu tugas spesiﬁk. Ketika dipanggil, fungsi ada yang menghasilkan atau mengembalikan nilai dan ada juga yang tidak. Nilai yang dihasilkan oleh fungsi disebut dengan istilah nilai balik (return value). Dalam beberapa bahasa pemrograman lain, fungsi dengan nilai balik disebut fungsi dan fungsi tanpa nilai balik disebut prosedur. fungsi hanya perlu dideﬁnisikan satu kali, tapi dapat digunakan atau dipanggil berkali-kali. Dalam Phyton, fungsi dideﬁnisikan menggunakan perintah def melalui bentuk umum berikut : \n",
    "\n",
    "def NamaFungsi(parameter1,parameter2,...):\n",
    "\n",
    "#badan fungsi \n",
    "\n",
    "Daftar parameter dari suatu fungsi bersifat opsional, tapi sebagian besar fungsi pada umumnya memiliki satu parameter atau lebih. Terdapat empat jenis fungsi yang dapat dibuat di dalam Phyton, yaitu : fungsi global, fungsi lokal, dan fungsi lambda.\n"
   ]
  },
  {
   "cell_type": "markdown",
   "id": "b1dd703d-685e-413e-970b-0b334d690564",
   "metadata": {},
   "source": [
    "**1. Fungsi Global**\n",
    "\n",
    "Fungsi global adalah fungsi yang dideﬁnisikan didalam suatu modul dan dapat dipanggil oleh fungsi lain, baik yang berada di dalam modul yang sama maupun modul lain.\n"
   ]
  },
  {
   "cell_type": "code",
   "execution_count": 31,
   "id": "1c025097-9485-4207-b0f1-0566f893368f",
   "metadata": {},
   "outputs": [],
   "source": [
    "def kali(a,b):\n",
    "    c=a*b\n",
    "    return c #Mengembalikan nilai ke baris pemanggil"
   ]
  },
  {
   "cell_type": "code",
   "execution_count": 32,
   "id": "0e2be43e-529a-4321-a374-66f82535cd44",
   "metadata": {},
   "outputs": [],
   "source": [
    "def tulis(s):\n",
    "    print(s)"
   ]
  },
  {
   "cell_type": "code",
   "execution_count": 33,
   "id": "3f9fa0db-2f27-4059-9313-b0d462c6a219",
   "metadata": {},
   "outputs": [
    {
     "data": {
      "text/plain": [
       "50"
      ]
     },
     "execution_count": 33,
     "metadata": {},
     "output_type": "execute_result"
    }
   ],
   "source": [
    "z = kali(10,5)\n",
    "z"
   ]
  },
  {
   "cell_type": "code",
   "execution_count": 34,
   "id": "d0a535d1-9799-402d-8bb1-3d45f3292e42",
   "metadata": {},
   "outputs": [
    {
     "name": "stdout",
     "output_type": "stream",
     "text": [
      "Pemrograman Komputer I dengan Python\n"
     ]
    }
   ],
   "source": [
    "tulis('Pemrograman Komputer I dengan Python')"
   ]
  },
  {
   "cell_type": "code",
   "execution_count": 35,
   "id": "147d0979-8f80-4f9e-bd33-c4944bdc59fd",
   "metadata": {},
   "outputs": [
    {
     "name": "stdout",
     "output_type": "stream",
     "text": [
      "50\n"
     ]
    }
   ],
   "source": [
    "tulis(z)"
   ]
  },
  {
   "cell_type": "markdown",
   "id": "9a547cec-5df3-4778-82bc-d514ebeaf4f6",
   "metadata": {},
   "source": [
    "**2. Fungsi Lokal**\n",
    "\n",
    "Fungsi lokal adalah fungsi yang dideﬁnisikan didalam fungsi lain. Fungsi lokal sering disebut fungsi bersarang (nested function). Berbeda dengan fungsi global, fungsi lokal hanya akan dikenal oleh fungsi luar tempat fungsi lokal tersebut dideﬁnisikan."
   ]
  },
  {
   "cell_type": "code",
   "execution_count": 36,
   "id": "d1635432-6f28-4d36-9899-88219e61efe9",
   "metadata": {},
   "outputs": [],
   "source": [
    "def persentase(a,b,c):\n",
    "    def hitungPersen(x):\n",
    "        total=a+b+c\n",
    "        return(x*100.0)/total\n",
    "    print(\"Persentase: %f\\t%f\\t%f\" %(hitungPersen(a), hitungPersen(b), hitungPersen(c)))"
   ]
  },
  {
   "cell_type": "code",
   "execution_count": 37,
   "id": "0ac6835f-b846-43c0-972e-8a90a99ef3b9",
   "metadata": {},
   "outputs": [
    {
     "name": "stdout",
     "output_type": "stream",
     "text": [
      "Persentase: 33.333333\t33.333333\t33.333333\n"
     ]
    }
   ],
   "source": [
    "persentase(50, 50, 50)"
   ]
  },
  {
   "cell_type": "code",
   "execution_count": 38,
   "id": "7e61e7d4-25cf-4cdb-812c-69b7beb37011",
   "metadata": {},
   "outputs": [
    {
     "name": "stdout",
     "output_type": "stream",
     "text": [
      "Persentase: 20.000000\t60.000000\t20.000000\n"
     ]
    }
   ],
   "source": [
    "persentase(30, 90, 30)"
   ]
  },
  {
   "cell_type": "markdown",
   "id": "164d8ecb-c48f-4db0-8375-b9ebe81f0f73",
   "metadata": {},
   "source": [
    "**3. Fungsi Lambda**\n",
    "\n",
    "Fungsi lambda adalah suatu ekspresi untuk menangani tugas-tugas pemrograman yang sederhana. Fungsi jenis ini sering dikenal dengan fungsi tanpa nama (anonymous function) dan dibuat menggunakan kata kunci lambda. Bentuk umum penggunaan kata kunci lambda adalah sebagai berikut :\n",
    "\n",
    "lambda DaftarParameter: ekspresi \n",
    "\n",
    "Berikut ini contoh kode yang menunjukkan penggunaan kata kunci lamda. Jika ditulis dalam bentuk fungsi normal, kode di atas dapat diubah menjadi seperti berikut: "
   ]
  },
  {
   "cell_type": "code",
   "execution_count": 39,
   "id": "fdd33f92-ae2e-4584-906e-7d530c3026c6",
   "metadata": {},
   "outputs": [],
   "source": [
    "def maks(a,b):\n",
    "    if a>b:\n",
    "        return a\n",
    "    else:\n",
    "        return b"
   ]
  },
  {
   "cell_type": "code",
   "execution_count": 40,
   "id": "12ef095c-42e3-4abd-bee6-a2def7fe2621",
   "metadata": {},
   "outputs": [
    {
     "data": {
      "text/plain": [
       "20"
      ]
     },
     "execution_count": 40,
     "metadata": {},
     "output_type": "execute_result"
    }
   ],
   "source": [
    "maks(20, 10)"
   ]
  },
  {
   "cell_type": "code",
   "execution_count": 41,
   "id": "30ee9dba-931c-4dbf-93d9-661c9e5583ce",
   "metadata": {},
   "outputs": [
    {
     "data": {
      "text/plain": [
       "200"
      ]
     },
     "execution_count": 41,
     "metadata": {},
     "output_type": "execute_result"
    }
   ],
   "source": [
    "maks(100, 200)"
   ]
  },
  {
   "cell_type": "markdown",
   "id": "bf049a23-0636-4f60-9c27-2ebc463f0e31",
   "metadata": {},
   "source": [
    "Terdapat beberapa hal yang tidak dapat dilakukan pada fungsi lambda, sehingga kita perlu menggunakan fungsi normal. Jika anda ingin menyertakan struktur pengulangan for maupun while, perintah-perintah non ekspresi, dan perintah yang berjumlah lebih dari satu, maka anda tidak dapat menggunakan fungsi lambda. Fungsi lambda biasanya diperankan sebagai parameter dari suatu fungsi lain. Fungsi yang berperan sebagai parameter sering disebut dengan fungsi callback."
   ]
  },
  {
   "cell_type": "markdown",
   "id": "ff231337-8e21-4607-8d97-becb7b41f34c",
   "metadata": {},
   "source": [
    "**4. Parameter Default**\n",
    "\n",
    "Suatu parameter fungsi dapat memiliki nilai default pada saat fungsi tersebut dideﬁnisikan. Proses pengisisan nilai ke dalam parameter dilakukan menggunakan operator penugasan (=). Melalui cara ini, kita dapat memanggil fungsi tanpa menyertakan nilai untuk parameter bersangkutan. Parameter seperti ini sering disebut parameter default atau parameter opsional. Parameter default harus ditempatkan pada urutan paling akhir dari daftar parameter lain."
   ]
  },
  {
   "cell_type": "code",
   "execution_count": 42,
   "id": "012c59f9-2574-4bf8-8786-ad1d48b63e6b",
   "metadata": {},
   "outputs": [],
   "source": [
    "def tulis(s, gantibaris=True):\n",
    "    if not gantibaris:\n",
    "        print(s, end='')\n",
    "    else:\n",
    "        print(s)"
   ]
  },
  {
   "cell_type": "code",
   "execution_count": 43,
   "id": "ea380524-b3af-4169-9e1e-1e10109a154f",
   "metadata": {},
   "outputs": [
    {
     "name": "stdout",
     "output_type": "stream",
     "text": [
      "Python\n"
     ]
    }
   ],
   "source": [
    "tulis('Python')"
   ]
  },
  {
   "cell_type": "code",
   "execution_count": 44,
   "id": "2efa4dd7-eb24-4ba4-82aa-fcb9cfa6832b",
   "metadata": {},
   "outputs": [
    {
     "name": "stdout",
     "output_type": "stream",
     "text": [
      "Python dan Ruby\n"
     ]
    }
   ],
   "source": [
    "tulis('Python',False);tulis(' dan Ruby')"
   ]
  },
  {
   "cell_type": "code",
   "execution_count": 45,
   "id": "23aba366-b980-4813-b50a-a106b887eade",
   "metadata": {},
   "outputs": [
    {
     "name": "stdout",
     "output_type": "stream",
     "text": [
      "Python\n",
      "Ruby\n"
     ]
    }
   ],
   "source": [
    "tulis('Python');tulis('Ruby')"
   ]
  },
  {
   "cell_type": "markdown",
   "id": "c38aede4-8fa5-440d-8ed6-7bd69c5a058b",
   "metadata": {},
   "source": [
    "Parameter gantibaris pada contoh kode di atas merupakan parameter default. Nilai default untuk parameter tersebut adalah True. Ini berarti bahwa jika fungsi tulis( ) dipanggil tanpa menyertakan parameterkedua, maka parameter gantibaris akan diisi dengan nilai True."
   ]
  }
 ],
 "metadata": {
  "kernelspec": {
   "display_name": "Python 3 (ipykernel)",
   "language": "python",
   "name": "python3"
  },
  "language_info": {
   "codemirror_mode": {
    "name": "ipython",
    "version": 3
   },
   "file_extension": ".py",
   "mimetype": "text/x-python",
   "name": "python",
   "nbconvert_exporter": "python",
   "pygments_lexer": "ipython3",
   "version": "3.10.2"
  }
 },
 "nbformat": 4,
 "nbformat_minor": 5
}
